{
 "cells": [
  {
   "cell_type": "code",
   "execution_count": 1,
   "id": "96c762cd-efae-4ded-bd81-07f2595028f8",
   "metadata": {},
   "outputs": [],
   "source": [
    "from pandas import read_csv, Series, CategoricalDtype"
   ]
  },
  {
   "cell_type": "markdown",
   "id": "e3ac5a73-1b4e-4685-b7b9-4a882797a5eb",
   "metadata": {},
   "source": [
    "### part 1"
   ]
  },
  {
   "cell_type": "code",
   "execution_count": 20,
   "id": "93cb7036-7c2b-4fdf-9541-4fa942b600a7",
   "metadata": {},
   "outputs": [],
   "source": [
    "d = CategoricalDtype('forward down up'.split())\n",
    "m = Series({\n",
    "    'forward': 1+0j,\n",
    "    'down':0+1j,\n",
    "    'up':0-1j\n",
    "}).pipe(lambda s: s.set_axis(s.index.astype(d)))"
   ]
  },
  {
   "cell_type": "code",
   "execution_count": 24,
   "id": "eb55b53e-f8e1-40fd-a64d-f4371e7106ea",
   "metadata": {},
   "outputs": [],
   "source": [
    "data = read_csv(\n",
    "    'data/input-2.1.txt',\n",
    "    sep=' ',\n",
    "    names=['direction', 'distance'],\n",
    "    dtype={'direction':d},\n",
    "    index_col=['direction'],\n",
    "    header=None\n",
    ")"
   ]
  },
  {
   "cell_type": "code",
   "execution_count": 25,
   "id": "d0939772-04be-4ea0-aa6c-20fbf36c09b1",
   "metadata": {},
   "outputs": [
    {
     "data": {
      "text/html": [
       "<div>\n",
       "<style scoped>\n",
       "    .dataframe tbody tr th:only-of-type {\n",
       "        vertical-align: middle;\n",
       "    }\n",
       "\n",
       "    .dataframe tbody tr th {\n",
       "        vertical-align: top;\n",
       "    }\n",
       "\n",
       "    .dataframe thead th {\n",
       "        text-align: right;\n",
       "    }\n",
       "</style>\n",
       "<table border=\"1\" class=\"dataframe\">\n",
       "  <thead>\n",
       "    <tr style=\"text-align: right;\">\n",
       "      <th></th>\n",
       "      <th>distance</th>\n",
       "    </tr>\n",
       "    <tr>\n",
       "      <th>direction</th>\n",
       "      <th></th>\n",
       "    </tr>\n",
       "  </thead>\n",
       "  <tbody>\n",
       "    <tr>\n",
       "      <th>forward</th>\n",
       "      <td>6</td>\n",
       "    </tr>\n",
       "    <tr>\n",
       "      <th>down</th>\n",
       "      <td>8</td>\n",
       "    </tr>\n",
       "    <tr>\n",
       "      <th>down</th>\n",
       "      <td>5</td>\n",
       "    </tr>\n",
       "    <tr>\n",
       "      <th>down</th>\n",
       "      <td>9</td>\n",
       "    </tr>\n",
       "    <tr>\n",
       "      <th>forward</th>\n",
       "      <td>2</td>\n",
       "    </tr>\n",
       "    <tr>\n",
       "      <th>...</th>\n",
       "      <td>...</td>\n",
       "    </tr>\n",
       "    <tr>\n",
       "      <th>forward</th>\n",
       "      <td>1</td>\n",
       "    </tr>\n",
       "    <tr>\n",
       "      <th>down</th>\n",
       "      <td>7</td>\n",
       "    </tr>\n",
       "    <tr>\n",
       "      <th>down</th>\n",
       "      <td>8</td>\n",
       "    </tr>\n",
       "    <tr>\n",
       "      <th>down</th>\n",
       "      <td>3</td>\n",
       "    </tr>\n",
       "    <tr>\n",
       "      <th>forward</th>\n",
       "      <td>6</td>\n",
       "    </tr>\n",
       "  </tbody>\n",
       "</table>\n",
       "<p>1000 rows × 1 columns</p>\n",
       "</div>"
      ],
      "text/plain": [
       "           distance\n",
       "direction          \n",
       "forward           6\n",
       "down              8\n",
       "down              5\n",
       "down              9\n",
       "forward           2\n",
       "...             ...\n",
       "forward           1\n",
       "down              7\n",
       "down              8\n",
       "down              3\n",
       "forward           6\n",
       "\n",
       "[1000 rows x 1 columns]"
      ]
     },
     "execution_count": 25,
     "metadata": {},
     "output_type": "execute_result"
    }
   ],
   "source": [
    "data"
   ]
  },
  {
   "cell_type": "code",
   "execution_count": 27,
   "id": "cbb4088c-3546-4cf3-bc6f-e1e484fa4fab",
   "metadata": {},
   "outputs": [
    {
     "data": {
      "text/plain": [
       "2215080"
      ]
     },
     "execution_count": 27,
     "metadata": {},
     "output_type": "execute_result"
    }
   ],
   "source": [
    "int((pos := (m.reindex(data.index).values*data['distance']).sum()).real*pos.imag)"
   ]
  },
  {
   "cell_type": "code",
   "execution_count": null,
   "id": "dd4d56a0-dd44-4e1b-8c75-18e08aac6940",
   "metadata": {},
   "outputs": [],
   "source": []
  },
  {
   "cell_type": "code",
   "execution_count": null,
   "id": "7ff5a8ef-2950-4c64-a990-266cff3d5e58",
   "metadata": {},
   "outputs": [],
   "source": []
  }
 ],
 "metadata": {
  "kernelspec": {
   "display_name": "Python 3 (ipykernel)",
   "language": "python",
   "name": "python3"
  },
  "language_info": {
   "codemirror_mode": {
    "name": "ipython",
    "version": 3
   },
   "file_extension": ".py",
   "mimetype": "text/x-python",
   "name": "python",
   "nbconvert_exporter": "python",
   "pygments_lexer": "ipython3",
   "version": "3.8.12"
  }
 },
 "nbformat": 4,
 "nbformat_minor": 5
}
