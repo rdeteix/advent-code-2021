{
 "cells": [
  {
   "cell_type": "code",
   "execution_count": 4,
   "id": "07255605-ee09-4048-9f8e-3f3d231572d8",
   "metadata": {},
   "outputs": [],
   "source": [
    "import pandas as pd"
   ]
  },
  {
   "cell_type": "code",
   "execution_count": 6,
   "id": "54eb06a1-790a-481d-a539-a464c1bb97c9",
   "metadata": {},
   "outputs": [],
   "source": [
    "s = pd.read_csv('data/input-1-0.txt' ,header=None,squeeze=True)"
   ]
  },
  {
   "cell_type": "code",
   "execution_count": 7,
   "id": "c421e1a6-e158-4be2-b8b7-1b65e2ac6e0f",
   "metadata": {},
   "outputs": [
    {
     "data": {
      "text/plain": [
       "7"
      ]
     },
     "execution_count": 7,
     "metadata": {},
     "output_type": "execute_result"
    }
   ],
   "source": [
    "(s.diff()>0).sum()"
   ]
  },
  {
   "cell_type": "code",
   "execution_count": 8,
   "id": "b055e2ad-7ce4-4b0d-a45b-9af093721fbb",
   "metadata": {},
   "outputs": [
    {
     "data": {
      "text/plain": [
       "5"
      ]
     },
     "execution_count": 8,
     "metadata": {},
     "output_type": "execute_result"
    }
   ],
   "source": [
    "(s.rolling(3).sum().diff()>0).sum()"
   ]
  },
  {
   "cell_type": "code",
   "execution_count": null,
   "id": "1780ce4f-6368-43a1-9651-f60342b24e7c",
   "metadata": {},
   "outputs": [],
   "source": []
  }
 ],
 "metadata": {
  "kernelspec": {
   "display_name": "Python 3 (ipykernel)",
   "language": "python",
   "name": "python3"
  },
  "language_info": {
   "codemirror_mode": {
    "name": "ipython",
    "version": 3
   },
   "file_extension": ".py",
   "mimetype": "text/x-python",
   "name": "python",
   "nbconvert_exporter": "python",
   "pygments_lexer": "ipython3",
   "version": "3.8.12"
  }
 },
 "nbformat": 4,
 "nbformat_minor": 5
}
