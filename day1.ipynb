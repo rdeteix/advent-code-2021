{
 "cells": [
  {
   "cell_type": "code",
   "execution_count": null,
   "id": "07255605-ee09-4048-9f8e-3f3d231572d8",
   "metadata": {},
   "outputs": [],
   "source": [
    "import pandas as pd\n",
    "import numpy as np\n",
    "\n",
    "from pathlib import Path"
   ]
  },
  {
   "cell_type": "code",
   "execution_count": null,
   "id": "54eb06a1-790a-481d-a539-a464c1bb97c9",
   "metadata": {},
   "outputs": [],
   "source": [
    "r = Path('data')\n",
    "\n",
    "def calculate_increase(filename):\n",
    "    s = pd.read_csv(r / filename,header=None,squeeze=True)\n",
    "    return (s.diff()>0).sum()"
   ]
  },
  {
   "cell_type": "code",
   "execution_count": null,
   "id": "c421e1a6-e158-4be2-b8b7-1b65e2ac6e0f",
   "metadata": {},
   "outputs": [],
   "source": [
    "calculate_increase('input-1-0.txt')"
   ]
  },
  {
   "cell_type": "code",
   "execution_count": null,
   "id": "b055e2ad-7ce4-4b0d-a45b-9af093721fbb",
   "metadata": {},
   "outputs": [],
   "source": [
    "calculate_increase('input-1-1.txt')"
   ]
  },
  {
   "cell_type": "code",
   "execution_count": null,
   "id": "1780ce4f-6368-43a1-9651-f60342b24e7c",
   "metadata": {},
   "outputs": [],
   "source": []
  }
 ],
 "metadata": {
  "kernelspec": {
   "display_name": "Python 3 (ipykernel)",
   "language": "python",
   "name": "python3"
  },
  "language_info": {
   "codemirror_mode": {
    "name": "ipython",
    "version": 3
   },
   "file_extension": ".py",
   "mimetype": "text/x-python",
   "name": "python",
   "nbconvert_exporter": "python",
   "pygments_lexer": "ipython3",
   "version": "3.8.12"
  }
 },
 "nbformat": 4,
 "nbformat_minor": 5
}
